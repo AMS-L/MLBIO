{
 "cells": [
  {
   "cell_type": "code",
   "execution_count": 7,
   "metadata": {},
   "outputs": [],
   "source": [
    "import numpy as np\n",
    "import matplotlib.pyplot as plt\n",
    "%matplotlib inline\n",
    "\n",
    "import pandas as pd\n",
    "\n",
    "import wfdb\n",
    "import glob\n",
    "import os\n",
    "import pywt\n",
    "import tensorflow as tf\n",
    "from tqdm import tqdm\n",
    "import tensorflow as tf\n",
    "from scipy import signal as scipy_signal\n",
    "from tensorflow.keras.models import Sequential, load_model\n",
    "from tensorflow.keras.layers import  Dense, Dropout, Conv2D, Input, MaxPooling2D,Flatten\n"
   ]
  },
  {
   "cell_type": "code",
   "execution_count": 8,
   "metadata": {},
   "outputs": [
    {
     "name": "stdout",
     "output_type": "stream",
     "text": [
      "Defaulting to user installation because normal site-packages is not writeable\n",
      "Requirement already satisfied: wfdb in /home/amine/.local/lib/python3.10/site-packages (4.1.2)\n",
      "Requirement already satisfied: SoundFile>=0.10.0 in /home/amine/.local/lib/python3.10/site-packages (from wfdb) (0.12.1)\n",
      "Requirement already satisfied: matplotlib>=3.2.2 in /home/amine/.local/lib/python3.10/site-packages (from wfdb) (3.7.1)\n",
      "Requirement already satisfied: numpy>=1.10.1 in /home/amine/.local/lib/python3.10/site-packages (from wfdb) (1.23.5)\n",
      "Requirement already satisfied: pandas>=1.3.0 in /home/amine/.local/lib/python3.10/site-packages (from wfdb) (1.5.3)\n",
      "Requirement already satisfied: requests>=2.8.1 in /home/amine/.local/lib/python3.10/site-packages (from wfdb) (2.28.2)\n",
      "Requirement already satisfied: scipy>=1.0.0 in /home/amine/.local/lib/python3.10/site-packages (from wfdb) (1.10.1)\n",
      "Requirement already satisfied: contourpy>=1.0.1 in /home/amine/.local/lib/python3.10/site-packages (from matplotlib>=3.2.2->wfdb) (1.0.7)\n",
      "Requirement already satisfied: cycler>=0.10 in /home/amine/.local/lib/python3.10/site-packages (from matplotlib>=3.2.2->wfdb) (0.11.0)\n",
      "Requirement already satisfied: fonttools>=4.22.0 in /home/amine/.local/lib/python3.10/site-packages (from matplotlib>=3.2.2->wfdb) (4.38.0)\n",
      "Requirement already satisfied: kiwisolver>=1.0.1 in /home/amine/.local/lib/python3.10/site-packages (from matplotlib>=3.2.2->wfdb) (1.4.4)\n",
      "Requirement already satisfied: packaging>=20.0 in /home/amine/.local/lib/python3.10/site-packages (from matplotlib>=3.2.2->wfdb) (23.0)\n",
      "Requirement already satisfied: pillow>=6.2.0 in /usr/lib/python3/dist-packages (from matplotlib>=3.2.2->wfdb) (9.0.1)\n",
      "Requirement already satisfied: pyparsing>=2.3.1 in /usr/lib/python3/dist-packages (from matplotlib>=3.2.2->wfdb) (2.4.7)\n",
      "Requirement already satisfied: python-dateutil>=2.7 in /home/amine/.local/lib/python3.10/site-packages (from matplotlib>=3.2.2->wfdb) (2.8.2)\n",
      "Requirement already satisfied: pytz>=2020.1 in /usr/lib/python3/dist-packages (from pandas>=1.3.0->wfdb) (2022.1)\n",
      "Requirement already satisfied: charset-normalizer<4,>=2 in /home/amine/.local/lib/python3.10/site-packages (from requests>=2.8.1->wfdb) (3.0.1)\n",
      "Requirement already satisfied: idna<4,>=2.5 in /usr/lib/python3/dist-packages (from requests>=2.8.1->wfdb) (3.3)\n",
      "Requirement already satisfied: urllib3<1.27,>=1.21.1 in /usr/lib/python3/dist-packages (from requests>=2.8.1->wfdb) (1.26.5)\n",
      "Requirement already satisfied: certifi>=2017.4.17 in /usr/lib/python3/dist-packages (from requests>=2.8.1->wfdb) (2020.6.20)\n",
      "Requirement already satisfied: cffi>=1.0 in /home/amine/.local/lib/python3.10/site-packages (from SoundFile>=0.10.0->wfdb) (1.15.1)\n",
      "Requirement already satisfied: pycparser in /home/amine/.local/lib/python3.10/site-packages (from cffi>=1.0->SoundFile>=0.10.0->wfdb) (2.21)\n",
      "Requirement already satisfied: six>=1.5 in /home/amine/.local/lib/python3.10/site-packages (from python-dateutil>=2.7->matplotlib>=3.2.2->wfdb) (1.16.0)\n"
     ]
    }
   ],
   "source": [
    "!pip install wfdb"
   ]
  },
  {
   "cell_type": "code",
   "execution_count": 9,
   "metadata": {},
   "outputs": [],
   "source": [
    "database_names = ['mitdb', 'chfdb']\n",
    "n_label = len(database_names)\n",
    "record_names = []\n",
    "labels = []\n",
    "\n",
    "for i, name in enumerate(database_names):\n",
    "    current_record_names = wfdb.get_record_list(name)\n",
    "    record_names += current_record_names\n",
    "    labels += [i for record_name in current_record_names]\n",
    "assert len(record_names) == len(labels)\n",
    "\n",
    "# Récupération des fréquences d'échantillonnage\n",
    "frequencies = []\n",
    "for record_name, label in zip(record_names, labels):\n",
    "    header = wfdb.rdheader(record_name, database_names[label])\n",
    "    frequencies.append(header.fs)"
   ]
  },
  {
   "cell_type": "code",
   "execution_count": 10,
   "metadata": {},
   "outputs": [],
   "source": [
    "import numpy as np\n",
    "import tensorflow as tf\n",
    "import wfdb\n",
    "import scipy.signal as scipy_signal\n",
    "import pywt\n",
    "\n",
    "# Fonction pour charger un signal à partir de WFDB\n",
    "def load_signal(file, start, end, channel, pn_dir):\n",
    "    record = wfdb.rdrecord(file, sampfrom=start, sampto=end, channels=[channel], pn_dir=pn_dir)\n",
    "    data = record.p_signal.reshape(-1)\n",
    "    return data\n",
    "\n",
    "# Fonction pour synchroniser un signal à une fréquence d'échantillonnage commune\n",
    "def synchronize_signal(signal, sampling_rate, common_sampling_rate):\n",
    "    num_samples = int((common_sampling_rate * len(signal)) / sampling_rate)\n",
    "    signal_resampled = scipy_signal.resample(signal, num_samples)\n",
    "    return signal_resampled\n",
    "\n",
    "# Fonction pour générer les coefficients d'ondelettes\n",
    "def generate_wavelet_coefficients(signal, scales, waveletname):\n",
    "    coefficients, _ = pywt.cwt(signal, scales, waveletname, 1)\n",
    "    return coefficients\n",
    "\n",
    "# Fonction pour générer les données à partir des signaux WFDB\n",
    "def generate_data_from_wfdb(record_name, label, frequency, nb_samples_per_signal, common_sampling_rate):\n",
    "    scales = range(1, scale_size + 1)\n",
    "    waveletname = 'morl'\n",
    "    y_train = np.zeros(nb_samples_per_signal)\n",
    "    X_train = []\n",
    "\n",
    "    pn_dir = database_names[label]\n",
    "    signal = load_signal(record_name, start=0, end=nb_samples_per_signal * frequency, channel=0, pn_dir=pn_dir)\n",
    "    signal = synchronize_signal(signal, frequency, common_sampling_rate)\n",
    "    signal_samples = np.split(signal, nb_samples_per_signal)\n",
    "    y_train = np.full(nb_samples_per_signal, label)\n",
    "\n",
    "    for sample in signal_samples:\n",
    "        coefficients = generate_wavelet_coefficients(sample, scales, waveletname)\n",
    "        X_train.append(coefficients)\n",
    "\n",
    "    X_train = np.array(X_train)\n",
    "    X_train = np.reshape(X_train, (X_train.shape[0], X_train.shape[1], X_train.shape[2], 1))\n",
    "    X_normalized = (X_train - np.mean(X_train)) / np.std(X_train)\n",
    "\n",
    "    return X_normalized, y_train\n",
    "\n",
    "# Fonction pour générer les données complètes\n",
    "def generate_data(sample_size, scale_size, nb_samples_per_signal, labels, record_names, database_names,\n",
    "                  frequencies, common_sampling_rate):\n",
    "    X_train = []\n",
    "    y_train = []\n",
    "\n",
    "    for i in range(len(record_names)):\n",
    "        record_name, label, frequency = record_names[i], labels[i], frequencies[i]\n",
    "        X_batch, y_batch = generate_data_from_wfdb(record_name, label, frequency, nb_samples_per_signal, common_sampling_rate)\n",
    "        X_train.extend(X_batch)\n",
    "        y_train.extend(y_batch)\n",
    "\n",
    "    num_classes = len(np.unique(y_train))\n",
    "    y_train = tf.keras.utils.to_categorical(y_train, num_classes)\n",
    "\n",
    "    return np.array(X_train), y_train\n",
    "\n",
    "# Paramètres\n",
    "sample_size = 64\n",
    "scale_size = 64\n",
    "nb_samples_per_signal = 64\n",
    "common_sampling_rate = 64\n",
    "\n",
    "# Génération des données\n",
    "data_params = {\n",
    "    'sample_size': sample_size,\n",
    "    'scale_size': scale_size,\n",
    "    'nb_samples_per_signal': nb_samples_per_signal,\n",
    "    'labels': labels,\n",
    "    'record_names': record_names,\n",
    "    'database_names': database_names,\n",
    "    'frequencies': frequencies,\n",
    "    'common_sampling_rate': common_sampling_rate\n",
    "}\n",
    "X_normalized, y = generate_data(**data_params)"
   ]
  },
  {
   "cell_type": "code",
   "execution_count": 14,
   "metadata": {},
   "outputs": [],
   "source": [
    "from sklearn.model_selection import train_test_split\n",
    "\n",
    "X_train, X_val, y_train, y_val = train_test_split(X_normalized, y, test_size=0.4, random_state=42)"
   ]
  },
  {
   "cell_type": "code",
   "execution_count": 15,
   "metadata": {},
   "outputs": [
    {
     "name": "stdout",
     "output_type": "stream",
     "text": [
      "Epoch 1/10\n",
      "38/38 [==============================] - 3s 68ms/step - loss: 3.4041 - accuracy: 0.7243 - val_loss: 3.1318 - val_accuracy: 0.7669\n",
      "Epoch 2/10\n",
      "38/38 [==============================] - 2s 65ms/step - loss: 2.9719 - accuracy: 0.7586 - val_loss: 2.7834 - val_accuracy: 0.7669\n",
      "Epoch 3/10\n",
      "38/38 [==============================] - 2s 64ms/step - loss: 2.6309 - accuracy: 0.7561 - val_loss: 2.4689 - val_accuracy: 0.7669\n",
      "Epoch 4/10\n",
      "38/38 [==============================] - 2s 62ms/step - loss: 2.3607 - accuracy: 0.7573 - val_loss: 2.2397 - val_accuracy: 0.7669\n",
      "Epoch 5/10\n",
      "38/38 [==============================] - 2s 63ms/step - loss: 2.1430 - accuracy: 0.7586 - val_loss: 2.0608 - val_accuracy: 0.7669\n",
      "Epoch 6/10\n",
      "38/38 [==============================] - 2s 63ms/step - loss: 1.9578 - accuracy: 0.7582 - val_loss: 1.8923 - val_accuracy: 0.7669\n",
      "Epoch 7/10\n",
      "38/38 [==============================] - 3s 70ms/step - loss: 1.8135 - accuracy: 0.7582 - val_loss: 1.7440 - val_accuracy: 0.7669\n",
      "Epoch 8/10\n",
      "38/38 [==============================] - 3s 68ms/step - loss: 1.6846 - accuracy: 0.7565 - val_loss: 1.6197 - val_accuracy: 0.7669\n",
      "Epoch 9/10\n",
      "38/38 [==============================] - 3s 68ms/step - loss: 1.5860 - accuracy: 0.7578 - val_loss: 1.5385 - val_accuracy: 0.7669\n",
      "Epoch 10/10\n",
      "38/38 [==============================] - 3s 72ms/step - loss: 1.4894 - accuracy: 0.7569 - val_loss: 1.4423 - val_accuracy: 0.7669\n"
     ]
    }
   ],
   "source": [
    "from tensorflow.keras.models import Sequential\n",
    "from tensorflow.keras.layers import Conv2D, MaxPooling2D, Dropout, Flatten, Dense, SpatialDropout2D\n",
    "from tensorflow.keras.optimizers import Adam\n",
    "from tensorflow.keras.regularizers import l2\n",
    "from tensorflow.keras.callbacks import EarlyStopping, ModelCheckpoint\n",
    "import matplotlib.pyplot as plt\n",
    "\n",
    "# Fonction pour construire le modèle avec des techniques de régularisation\n",
    "def build_regularized_model(input_shape, num_classes):\n",
    "    model = Sequential([\n",
    "        Conv2D(filters=32, kernel_size=5, activation='relu', input_shape=input_shape, kernel_regularizer=l2(0.01)),\n",
    "        MaxPooling2D(),\n",
    "        SpatialDropout2D(0.5),  # Couche de dropout spatial\n",
    "        Conv2D(filters=64, kernel_size=3, activation='relu', kernel_regularizer=l2(0.01)),\n",
    "        MaxPooling2D(),\n",
    "        SpatialDropout2D(0.5),  # Couche de dropout spatial\n",
    "        Flatten(),\n",
    "        Dense(128, activation='relu', kernel_regularizer=l2(0.01)),\n",
    "        Dropout(0.7),  # Dropout classique\n",
    "        Dense(num_classes, activation='softmax')\n",
    "    ])\n",
    "    model.compile(optimizer=Adam(learning_rate=0.0001),  # Réduction du taux d'apprentissage\n",
    "                  loss='categorical_crossentropy',\n",
    "                  metrics=['accuracy'])\n",
    "    return model\n",
    "\n",
    "# Construction du modèle avec régularisation\n",
    "model = build_regularized_model(X_train.shape[1:], y_train.shape[1])\n",
    "\n",
    "# Utilisation de callbacks pour éviter l'overfitting\n",
    "callbacks = [\n",
    "    EarlyStopping(patience=10, restore_best_weights=True),\n",
    "    ModelCheckpoint(\"best_model.h5\", save_best_only=True)\n",
    "]\n",
    "\n",
    "# Entraînement du modèle\n",
    "history = model.fit(X_train, y_train, epochs=10, batch_size=64, validation_data=(X_val, y_val), callbacks=callbacks)"
   ]
  },
  {
   "cell_type": "code",
   "execution_count": 16,
   "metadata": {},
   "outputs": [
    {
     "data": {
      "image/png": "[encoded data removed]",
      "text/plain": [
       "<Figure size 1200x600 with 1 Axes>"
      ]
     },
     "metadata": {},
     "output_type": "display_data"
    }
   ],
   "source": [
    "train_accuracy = history.history['accuracy']\n",
    "val_accuracy = history.history['val_accuracy']\n",
    "\n",
    "# Tracer l'accuracy\n",
    "plt.figure(figsize=(12, 6))\n",
    "plt.plot(range(1, len(train_accuracy) + 1), train_accuracy, label='Train Accuracy')\n",
    "plt.plot(range(1, len(val_accuracy) + 1), val_accuracy, label='Validation Accuracy')\n",
    "plt.xlabel('Epochs')\n",
    "plt.ylabel('Accuracy')\n",
    "plt.legend()\n",
    "plt.show()"
   ]
  },
  {
   "cell_type": "markdown",
   "metadata": {},
   "source": [
    "On constate une indication d'un léger overfitting mais cela peut être lié à la taille du dataset d'entrainement qui semble trop petite. Il y a une possibilité d'augmenter cette taille avec du flou gaussien avec du bruit mais cette méthode n'a pas l'air très rentable "
   ]
  }
 ],
 "metadata": {
  "kernelspec": {
   "display_name": "Python 3",
   "language": "python",
   "name": "python3"
  },
  "language_info": {
   "codemirror_mode": {
    "name": "ipython",
    "version": 3
   },
   "file_extension": ".py",
   "mimetype": "text/x-python",
   "name": "python",
   "nbconvert_exporter": "python",
   "pygments_lexer": "ipython3",
   "version": "3.10.12"
  },
  "orig_nbformat": 4
 },
 "nbformat": 4,
 "nbformat_minor": 2
}
